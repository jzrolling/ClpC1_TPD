{
 "cells": [
  {
   "cell_type": "code",
   "execution_count": 1,
   "id": "d4da414d-07e4-4a3d-bf24-81ea9d2f60cb",
   "metadata": {},
   "outputs": [
    {
     "name": "stdout",
     "output_type": "stream",
     "text": [
      "/Users/jz-rolling/Desktop/OMEGA_GUI/notebooks\n"
     ]
    }
   ],
   "source": [
    "cd /Users/jz-rolling/Desktop/OMEGA_GUI/notebooks/"
   ]
  },
  {
   "cell_type": "code",
   "execution_count": 2,
   "id": "bd5d846d-9043-4c2f-be85-dd49d8bcd1e6",
   "metadata": {},
   "outputs": [],
   "source": [
    "#import OMEGA2 as om\n",
    "import tifffile\n",
    "from skimage import filters,morphology\n",
    "from momia2.segmentation import *\n",
    "from momia2.utils import bandpass, correction,generic\n",
    "import numpy as np, glob\n",
    "import momia2 as mo, tifffile"
   ]
  },
  {
   "cell_type": "code",
   "execution_count": 3,
   "id": "f60878ad-56f2-4cc2-9afa-e4654ff35f02",
   "metadata": {},
   "outputs": [],
   "source": [
    "def xydrift_correction(target_img, shift, max_drift=1000):\n",
    "    \n",
    "    if max(np.abs(shift)) <= max_drift:\n",
    "        return shift_image(target_img, np.array(shift))\n",
    "    else:\n",
    "        return target_img\n",
    "    \n",
    "def get_xydrift(ref_img, target_img):\n",
    "    from skimage import registration\n",
    "    shift, error, _diff = registration.phase_cross_correlation(ref_img, target_img, upsample_factor=10)\n",
    "    return shift\n",
    "\n",
    "def shift_image(img, shift):\n",
    "    from scipy import ndimage as ndi\n",
    "    \"\"\"\n",
    "    correct xy drift between phase contrast image and fluorescent image(s)\n",
    "    :param img: input image\n",
    "    :param shift: subpixel xy drift\n",
    "    :return: drift corrected image\n",
    "    \"\"\"\n",
    "    offset_image = ndi.fourier_shift(np.fft.fftn(img), shift)\n",
    "    offset_image = np.fft.ifftn(offset_image)\n",
    "    offset_image = np.round(offset_image.real)\n",
    "    offset_image[offset_image <= 0] = 1\n",
    "    # rescaled to avoid int16 overflow\n",
    "    offset_image[offset_image>=65530] = 65530\n",
    "    return offset_image.astype(np.uint16)\n",
    "\n",
    "\n",
    "def correct_tl(pos,softread_data,n_channels=2,ref_channel=1):\n",
    "    pos_data = {i:[] for i in range(n_channels)}\n",
    "    output_data = []\n",
    "    for c in range(n_channels):\n",
    "        for t in range(softread_data['n_timepoints']):\n",
    "            pos_data[c].append(mo.io.get_slice_by_index(softread_data,channel=c,position=pos,time=t))\n",
    "        pos_data[c]=np.array(pos_data[c])\n",
    "    \n",
    "    drift_corrected = {i:np.zeros(pos_data[i].shape) for i in range(n_channels)}\n",
    "    last_drift = np.array([0,0])\n",
    "    max_drift = 0\n",
    "    print(len(pos_data[0]))\n",
    "    for t in range(softread_data['n_timepoints']):\n",
    "        t_frame = []\n",
    "        if t == 0:\n",
    "            for c in range(n_channels):\n",
    "                t_frame.append(pos_data[c][t])\n",
    "        else:\n",
    "            last_drift = last_drift + get_xydrift(pos_data[ref_channel][t-1],pos_data[ref_channel][t])\n",
    "            max_drift = max(abs(np.max(last_drift)),max_drift)\n",
    "            for c in range(n_channels):\n",
    "                t_frame.append(xydrift_correction(pos_data[c][t],last_drift))\n",
    "        output_data.append(np.array(t_frame))\n",
    "    output_data = np.array(output_data)\n",
    "    max_drift = int(round(max_drift))\n",
    "    cropped = output_data[:,:,max_drift:-max_drift,max_drift:-max_drift]\n",
    "    return cropped\n",
    "\n",
    "def correct_tl_simp(pos,timearray,n_channels=1,ref_channel=0):\n",
    "    pos_data = {i:[] for i in range(n_channels)}\n",
    "    output_data = []\n",
    "    for c in range(n_channels):\n",
    "        for t in range(softread_data['n_timepoints']):\n",
    "            pos_data[c].append(mo.io.get_slice_by_index(softread_data,channel=c,position=pos,time=t))\n",
    "        pos_data[c]=np.array(pos_data[c])\n",
    "    \n",
    "    drift_corrected = {i:np.zeros(pos_data[i].shape) for i in range(n_channels)}\n",
    "    last_drift = np.array([0,0])\n",
    "    max_drift = 0\n",
    "    print(len(pos_data[0]))\n",
    "    for t in range(softread_data['n_timepoints']):\n",
    "        t_frame = []\n",
    "        if t == 0:\n",
    "            for c in range(n_channels):\n",
    "                t_frame.append(pos_data[c][t])\n",
    "        else:\n",
    "            last_drift = last_drift + get_xydrift(pos_data[ref_channel][t-1],pos_data[ref_channel][t])\n",
    "            max_drift = max(abs(np.max(last_drift)),max_drift)\n",
    "            for c in range(n_channels):\n",
    "                t_frame.append(xydrift_correction(pos_data[c][t],last_drift))\n",
    "        output_data.append(np.array(t_frame))\n",
    "    output_data = np.array(output_data)\n",
    "    max_drift = int(round(max_drift))\n",
    "    cropped = output_data[:,:,max_drift:-max_drift,max_drift:-max_drift]\n",
    "    return cropped"
   ]
  },
  {
   "cell_type": "code",
   "execution_count": 6,
   "id": "63562c32-9e7d-4306-bafb-2e09d5ba6ac5",
   "metadata": {},
   "outputs": [
    {
     "name": "stdout",
     "output_type": "stream",
     "text": [
      "49\n",
      "49\n",
      "49\n",
      "49\n",
      "49\n",
      "49\n",
      "49\n",
      "49\n"
     ]
    }
   ],
   "source": [
    "soft=mo.io.softread_file('/Volumes/JZSSD_temp/202212_Harry_plate_analysis/rpoA_timelapse_001.nd2')\n",
    "for i in range(8):\n",
    "    drift_corrected=correct_tl(i,soft)\n",
    "    tifffile.imwrite('/Volumes/JZSSD_temp/202212_Harry_plate_analysis/rpoA_timelapse_pos_{}.tif'.format(i), \n",
    "                     drift_corrected,imagej=True,\n",
    "                     metadata={'axes': 'TCYX'})"
   ]
  },
  {
   "cell_type": "code",
   "execution_count": null,
   "id": "0580d68c-9436-4dcc-aaec-67177cff4932",
   "metadata": {},
   "outputs": [],
   "source": []
  }
 ],
 "metadata": {
  "kernelspec": {
   "display_name": "Python 3",
   "language": "python",
   "name": "python3"
  },
  "language_info": {
   "codemirror_mode": {
    "name": "ipython",
    "version": 3
   },
   "file_extension": ".py",
   "mimetype": "text/x-python",
   "name": "python",
   "nbconvert_exporter": "python",
   "pygments_lexer": "ipython3",
   "version": "3.7.4"
  }
 },
 "nbformat": 4,
 "nbformat_minor": 5
}
