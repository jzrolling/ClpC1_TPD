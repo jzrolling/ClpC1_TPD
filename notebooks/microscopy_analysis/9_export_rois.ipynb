{
 "cells": [
  {
   "cell_type": "code",
   "execution_count": 1,
   "id": "de0f690e-36ba-4326-88f0-fe2ae4a2a1f4",
   "metadata": {},
   "outputs": [
    {
     "name": "stdout",
     "output_type": "stream",
     "text": [
      "/Users/jz-rolling/Desktop/DeepLearningPilot\n"
     ]
    }
   ],
   "source": [
    "cd ~/Desktop/DeepLearningPilot/"
   ]
  },
  {
   "cell_type": "code",
   "execution_count": 2,
   "id": "1bc72b03-64f1-4ada-969e-e7c053e8240d",
   "metadata": {},
   "outputs": [],
   "source": [
    "import tensorflow as tf\n",
    "from tensorflow import keras\n",
    "from tensorflow.keras import layers\n",
    "import matplotlib.pyplot as plt\n",
    "import numpy as np\n",
    "from skimage.transform import resize,rescale\n",
    "from skimage import measure, segmentation,morphology,filters,feature,exposure\n",
    "import tifffile\n",
    "import momia2 as mo\n",
    "from momia2.classify.unet import *\n",
    "import timeit\n",
    "import pickle as pk\n",
    "from tensorflow import keras\n",
    "from unet import *\n",
    "import glob, os\n",
    "import seaborn as sns"
   ]
  },
  {
   "cell_type": "code",
   "execution_count": 3,
   "id": "cd413a24-ef08-4423-a9a4-ad5f3d9d6abc",
   "metadata": {},
   "outputs": [
    {
     "name": "stderr",
     "output_type": "stream",
     "text": [
      "2023-01-03 15:32:18.492798: I tensorflow/core/platform/cpu_feature_guard.cc:142] This TensorFlow binary is optimized with oneAPI Deep Neural Network Library (oneDNN) to use the following CPU instructions in performance-critical operations:  AVX2 FMA\n",
      "To enable them in other operations, rebuild TensorFlow with the appropriate compiler flags.\n",
      "2023-01-03 15:32:19.143779: E tensorflow/core/framework/node_def_util.cc:629] NodeDef mentions attribute validate_shape which is not in the op definition: Op<name=AssignVariableOp; signature=resource:resource, value:dtype -> ; attr=dtype:type; is_stateful=true> This may be expected if your graph generating binary is newer  than this binary. Unknown attributes will be ignored. NodeDef: {{node AssignNewValue}}\n"
     ]
    }
   ],
   "source": [
    "model = tf.keras.models.load_model('/Users/jz-rolling/Desktop/DeepLearningPilot/AttResUnet_20221229_2channel_512/')"
   ]
  },
  {
   "cell_type": "code",
   "execution_count": 42,
   "id": "8c1aa643-0e39-45c8-9aa7-7064e001d2f5",
   "metadata": {},
   "outputs": [],
   "source": [
    "def patch2imagej_rois(patch,roifile_name,tolerance=0.2):\n",
    "    from skimage.measure import approximate_polygon\n",
    "    from roifile import ImagejRoi,ROI_TYPE,ROI_OPTIONS,roiwrite\n",
    "    rois=[]\n",
    "    for i,(x1,y1,contour) in enumerate(patch.regionprops[['$opt-x1','$opt-y1','$refined_contours']].values):\n",
    "        c = contour[0]\n",
    "        c = c+np.array([x1,y1])[np.newaxis,:]\n",
    "        c = approximate_polygon(c,tolerance=tolerance)\n",
    "        roi = ImagejRoi.frompoints(np.flip(c,axis=1))\n",
    "        roi.roitype = ROI_TYPE.POLYGON\n",
    "        roi.name = str(i)\n",
    "        rois.append(roi)\n",
    "    roiwrite(roifile_name,rois)"
   ]
  },
  {
   "cell_type": "code",
   "execution_count": 45,
   "id": "547d98ab-c143-47dd-81c7-01d9e4220a5f",
   "metadata": {
    "tags": []
   },
   "outputs": [],
   "source": [
    "for f in sorted(glob.glob('/Users/jz-rolling/Desktop/DeepLearningPilot/Myco_image_lib/timelapse_revised/Msm_1.tif')):\n",
    "    out_name = f.split('.tif')[0]+'_rois.zip'\n",
    "    if not os.path.isfile(out_name):\n",
    "        img = plt.imread(f)\n",
    "        h,w = img.shape\n",
    "        pred = mo.classify.classifier_helper.image2predict(normalize_image(img,mask=True),\n",
    "                                                           model,size=512,channels=2)\n",
    "        dist,mask = pred[0][:,:,0][:h,:w],pred[0][:,:,1][:h,:w]\n",
    "        labeled_mask = mo.classify.classifier_helper.dist2labels_simp(dist,mask,\n",
    "                                                                    dist_threshold=0.2,\n",
    "                                                                    mask_threshold=0.8,\n",
    "                                                                    opening=2,\n",
    "                                                                    min_particle_size=50,\n",
    "                                                                    watershedline=True)\n",
    "        p=mo.Patch()\n",
    "        p.load_data(0,{'C1':img},\n",
    "                     ref_channel='C1')\n",
    "        p.labeled_mask=labeled_mask\n",
    "        p.locate_particles(precompute_contours=True,\n",
    "                           contour_kwargs={'level':0.12,'dilation':False})\n",
    "        p.refine_contours(smooth_factor=3,smoothing='moving_window',approximate=False,\n",
    "                          step_range=(-2.5,2.5),tol=0.1)\n",
    "        patch2imagej_rois(p,out_name,tolerance=0.4)\n",
    "        break"
   ]
  },
  {
   "cell_type": "code",
   "execution_count": 12,
   "id": "9d10dc59-e934-4a91-8bc1-f850ca8c8d14",
   "metadata": {},
   "outputs": [],
   "source": []
  },
  {
   "cell_type": "code",
   "execution_count": 15,
   "id": "031a6795-5bae-4d1c-bd15-a1600a39ea7c",
   "metadata": {},
   "outputs": [
    {
     "data": {
      "text/plain": [
       "<ImagejRoi '62eb3648-8b86-11ed-9e0f-acde48001122'>"
      ]
     },
     "execution_count": 15,
     "metadata": {},
     "output_type": "execute_result"
    }
   ],
   "source": [
    "img = v['Phase_Ian']\n",
    "                pred = mo.classify.classifier_helper.image2predict(normalize_image(img,mask=True),model,size=512,channels=2)\n",
    "                dist,mask = pred[0][:,:,0],pred[0][:,:,1]\n",
    "                labeled_mask = dist2labels_simp(dist,mask,\n",
    "                                                dist_threshold=0.25,\n",
    "                                                mask_threshold=0.8,\n",
    "                                                opening=2,\n",
    "                                                min_particle_size=150,\n",
    "                                                watershedline=True)\n",
    "                p=mo.Patch()\n",
    "                p.load_data(0,{'FITC':v['FITC_CLD'],'Phase_Ian':v['Phase_Ian']},\n",
    "                             ref_channel='Phase_Ian')\n",
    "                p.labeled_mask=labeled_mask\n",
    "                p.locate_particles(precompute_contours=True,\n",
    "                                   contour_kwargs={'level':0.12,'dilation':False})\n",
    "                p.refine_contours(smooth_factor=3,smoothing='moving_window',approximate=False,\n",
    "                                  step_range=(-2.5,2.5),tol=0.1)\n",
    "                p.extract_midlines()"
   ]
  },
  {
   "cell_type": "code",
   "execution_count": 33,
   "id": "4ba87a83-4399-49a1-a8db-791cf18209c3",
   "metadata": {},
   "outputs": [
    {
     "data": {
      "text/plain": [
       "<matplotlib.image.AxesImage at 0x7fe442cd1640>"
      ]
     },
     "execution_count": 33,
     "metadata": {},
     "output_type": "execute_result"
    },
    {
     "data": {
      "image/png": "[encoded data removed]",
      "text/plain": [
       "<Figure size 432x288 with 1 Axes>"
      ]
     },
     "metadata": {
      "needs_background": "light"
     },
     "output_type": "display_data"
    }
   ],
   "source": [
    "plt.imshow(pred[0][:,:,0])"
   ]
  },
  {
   "cell_type": "code",
   "execution_count": 8,
   "id": "8e6f5a30-a04f-43e2-9a21-a6e3d8f8c27c",
   "metadata": {},
   "outputs": [],
   "source": [
    "from roifile import ImagejRoi, ROI_OPTIONS, ROI_TYPE, ROI_SUBTYPE"
   ]
  },
  {
   "cell_type": "code",
   "execution_count": null,
   "id": "7e20b357-a7b3-4cde-b538-f4f82096988f",
   "metadata": {},
   "outputs": [],
   "source": []
  }
 ],
 "metadata": {
  "kernelspec": {
   "display_name": "Python 3 (ipykernel)",
   "language": "python",
   "name": "python3"
  },
  "language_info": {
   "codemirror_mode": {
    "name": "ipython",
    "version": 3
   },
   "file_extension": ".py",
   "mimetype": "text/x-python",
   "name": "python",
   "nbconvert_exporter": "python",
   "pygments_lexer": "ipython3",
   "version": "3.8.12"
  }
 },
 "nbformat": 4,
 "nbformat_minor": 5
}
