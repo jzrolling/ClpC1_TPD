{
 "cells": [
  {
   "cell_type": "markdown",
   "id": "7599ac75-9f79-4ef8-ad10-0fb42647bbf3",
   "metadata": {},
   "source": [
    "### Set up coding env."
   ]
  },
  {
   "cell_type": "code",
   "execution_count": 54,
   "id": "0ca5a70f-2d58-4b10-9ece-30251d130b23",
   "metadata": {},
   "outputs": [],
   "source": [
    "import numpy as np\n",
    "import pandas as pd\n",
    "import seaborn as sns \n",
    "import matplotlib.pyplot as plt\n",
    "import os,glob\n",
    "import peptides as pep\n",
    "from Bio.Seq import Seq \n",
    "from Bio.SeqUtils import MeltingTemp as mt\n",
    "from Bio import SeqIO\n",
    "from Bio.SeqUtils import GC\n",
    "import peptides as pep\n",
    "import pickle as pk\n",
    "\n",
    "#Load protein fasta files with Biopython \n",
    "\n",
    "def read_fasta(fasta_file):\n",
    "    content = {}\n",
    "    fas = open(fasta_file,'r')\n",
    "    seq = ''\n",
    "    last_entry = ''\n",
    "    while True:\n",
    "        line = fas.readline()\n",
    "        if len(line)==0:\n",
    "            content[last_entry]=seq\n",
    "            break\n",
    "        if '>' in line:\n",
    "            if last_entry=='':\n",
    "                line = line.rstrip()\n",
    "                last_entry=line\n",
    "            else:\n",
    "                line = line.rstrip()\n",
    "                content[last_entry]=seq\n",
    "                last_entry=line\n",
    "                seq=''\n",
    "        else:\n",
    "            line = line.rstrip()\n",
    "            seq += line\n",
    "    return content\n",
    "\n",
    "def read_gff(gff_file, retrieve_keys = ['Locus','Name']):\n",
    "    import pandas as pd\n",
    "    columns=['Seqid','Source','type','Start',\n",
    "             'End','Score','Strand','Phase'] + retrieve_keys\n",
    "    df_raw = []\n",
    "    with open(gff_file, 'r') as f:\n",
    "        while True:\n",
    "            line = f.readline().rstrip()\n",
    "            if line == '':\n",
    "                f.close()\n",
    "                break\n",
    "            else:\n",
    "                line = line.split('\\t')\n",
    "                info = line[:-1]\n",
    "                info_dict={}\n",
    "                for x in line[-1].split(';'):\n",
    "                    if x.count('=') == 1:\n",
    "                        k,v = x.split('=')\n",
    "                        info_dict[k] = v\n",
    "                info += [info_dict[k] for k in retrieve_keys]\n",
    "                df_raw.append(info)\n",
    "    df = pd.DataFrame(df_raw,columns=columns)\n",
    "    df[['Start','End']] = df[['Start','End']].astype(int)\n",
    "    return df.sort_values(by='Start').reset_index(drop=True)\n",
    "\n",
    "\n",
    "def determine_primers(gene_sequence, gibson_handle, direction):\n",
    "        \n",
    "    #Compute reverse complement for reverse primers and check for a stop codon        \n",
    "    if direction == 'rvs':\n",
    "        protein = gene_sequence.translate()\n",
    "        test_stop = protein.endswith('*')\n",
    "        if test_stop:\n",
    "            gene_sequence = gene_sequence[0:len(gene_sequence)-3]\n",
    "        gene_sequence = gene_sequence.reverse_complement()\n",
    "    \n",
    "    #Remove the start codon if fwd seq\n",
    "    if direction == 'fwd':\n",
    "        gene_sequence = gene_sequence[3:]    \n",
    "        \n",
    "    #Grabbing the first nucleotide to initialize a seq object\n",
    "    pcr_handle = gene_sequence[0]\n",
    "    \n",
    "    #Extend PCR handle based on gene sequence until a melting temperature of 58 reached\n",
    "    i = 1\n",
    "    while mt.Tm_NN(pcr_handle, nn_table=mt.DNA_NN4)<58:\n",
    "        pcr_handle = pcr_handle + gene_sequence[i]\n",
    "        i = i+1\n",
    "        \n",
    "    #Set the minumum length of the PCR handle to 19 nucleotides\n",
    "    if i < 19:\n",
    "        pcr_handle = pcr_handle + gene_sequence[i:19]\n",
    "        i = 19\n",
    "        \n",
    "    #Returns primer sequence and melting temp\n",
    "    primer = gibson_handle + pcr_handle\n",
    "    return(str(primer))"
   ]
  },
  {
   "cell_type": "markdown",
   "id": "26f592b0-4b1e-4a70-8d1b-1c534eb81e7c",
   "metadata": {},
   "source": [
    "### Load reference data"
   ]
  },
  {
   "cell_type": "code",
   "execution_count": 55,
   "id": "aa72d2a1-2328-47ed-8e59-20b36936d28f",
   "metadata": {},
   "outputs": [],
   "source": [
    "#Load vulnerabilty indicies for Mtb and Msm PMID: 34297925\n",
    "path = '/Users/jzrolling/Desktop/Projects/HSPH/BacPROTAC/Sam_cloning/Primers_and_primer_design/Reference_datasets/'\n",
    "mtb_vi = pd.read_excel(path+'Vulnerability_index.xlsx', sheet_name='(1) Mtb H37Rv')\n",
    "msm_vi = pd.read_excel(path+'Vulnerability_index.xlsx', sheet_name='(3) Msmeg')\n",
    "\n",
    "#Loading ortholog reference sheet PMID: 33653882\n",
    "ortho_info = pd.read_excel(path+'MSR_GENE_info.xlsx')\n",
    "\n",
    "#Loading Mtb protein sequences with locus ID \n",
    "mtb_proteins = {k[1:].split('|')[0]:v for k,v in read_fasta(path+'Mycobacterium_tuberculosis_H37Rv_proteins_v4.fasta').items()}\n",
    "\n",
    "#Loading Msm protein sequences with locus ID \n",
    "msm_proteins = {k[1:].split('|')[0]:v for k,v in read_fasta(path+'Mycobacterium_smegmatis_MC2-155_proteins_v4.fasta').items()}\n",
    "\n",
    "# Fix locus tag issues\n",
    "mtb_vi['Locus'] = ['Rv'+v.split('BD')[1] if 'RVBD' in v else v for v in mtb_vi['locus_tag'].values]\n",
    "msm_vi['Locus'] = ['MSMEG_'+v.split('MSMEG')[1] if 'MSMEG' in v else v for v in msm_vi['locus_tag'].values]\n",
    "\n",
    "# Load Mtb gff\n",
    "mtb_gff = pd.read_table(path+'Mycobacterium_tuberculosis_H37Rv_txt_v4.txt',delimiter='\\t')\n",
    "\n",
    "# re-index VI dataframe\n",
    "mtb_vi = mtb_vi.set_index('Locus')\n",
    "msm_vi = msm_vi.set_index('Locus')\n",
    "\n",
    "#Loading Msm gene sequences with locus ID \n",
    "msm_gene_seqs = {k[1:].split('|')[0]:v for k,v in read_fasta(path+'Mycobacterium_smegmatis_MC2-155_genes_v4.fasta').items()}"
   ]
  },
  {
   "cell_type": "markdown",
   "id": "a28ee610-bbf9-4ed4-8013-733ed03d6a44",
   "metadata": {},
   "source": [
    "### Extract all conserved proteins"
   ]
  },
  {
   "cell_type": "code",
   "execution_count": 56,
   "id": "662b648c-5b6e-41b4-bcf0-b23c440f423f",
   "metadata": {},
   "outputs": [
    {
     "name": "stdout",
     "output_type": "stream",
     "text": [
      "2450 orthologs found.\n"
     ]
    }
   ],
   "source": [
    "ortho_table_msr = ortho_info[pd.notna(ortho_info['rv'])].copy()[ortho_info.columns[:2]]\n",
    "ortho_table_mycobrowser = []\n",
    "\n",
    "for mtb_locus,msm_ortho in zip(mtb_gff['Locus'].values,\n",
    "                               mtb_gff['Orthologues M. smegmatis'].values):\n",
    "    if mtb_locus.startswith('Rv') and len(str(msm_ortho))>=10:\n",
    "        for msm_locus in msm_ortho.split(','):\n",
    "            if msm_locus not in ortho_table_msr['gene'].values:\n",
    "                if msm_locus=='MSMEG_0250':\n",
    "                    print(msm_locus)\n",
    "                ortho_table_mycobrowser.append([msm_locus,mtb_locus])\n",
    "ortho_table_mycobrowser = pd.DataFrame(ortho_table_mycobrowser,columns=ortho_table_msr.columns)\n",
    "union_ortho_table = pd.concat([ortho_table_msr,ortho_table_mycobrowser])\n",
    "print(\"{} orthologs found.\".format(len(union_ortho_table)))"
   ]
  },
  {
   "cell_type": "markdown",
   "id": "ac504ed2-3daa-42d0-97ab-e497c27e7024",
   "metadata": {},
   "source": [
    "### Remove entries without VI values or have spurious duplicating orthologs"
   ]
  },
  {
   "cell_type": "code",
   "execution_count": 57,
   "id": "31922e05-346f-4a7e-b7ad-14737b7030ca",
   "metadata": {},
   "outputs": [],
   "source": [
    "index2include = []\n",
    "msm_genes = list(union_ortho_table['gene'].values)\n",
    "mtb_genes = list(union_ortho_table['rv'].values)\n",
    "for i,(msm_locus,mtb_locus) in enumerate(union_ortho_table[['gene','rv']].values):\n",
    "    if msm_locus in msm_vi.index and mtb_locus in mtb_vi.index and msm_genes.count(msm_locus)==1 and mtb_genes.count(mtb_locus)==1:\n",
    "        index2include.append(i)\n",
    "union_ortho_table = union_ortho_table.iloc[index2include].reset_index(drop=True)"
   ]
  },
  {
   "cell_type": "markdown",
   "id": "fc1e1aca-dab1-4a0f-80bc-f5a6a370de77",
   "metadata": {},
   "source": [
    "### Include only essential genes"
   ]
  },
  {
   "cell_type": "code",
   "execution_count": 58,
   "id": "edc7370d-0b07-4d67-ac47-776e1b455918",
   "metadata": {},
   "outputs": [
    {
     "name": "stdout",
     "output_type": "stream",
     "text": [
      "354 orthologs are essential in both organisms.\n"
     ]
    }
   ],
   "source": [
    "msm_seq_list = []\n",
    "mtb_seq_list = []\n",
    "\n",
    "union_ortho_table[['Msm_VI','Msm_Ess_TnSeq','Msm_Ess_CRISPR']] = msm_vi.loc[union_ortho_table['gene'].values,['Vulnerability Index','tnseq_ess','crispr_ess']].values\n",
    "union_ortho_table[['Mtb_VI','Mtb_Ess_TnSeq','Mtb_Ess_CRISPR']] = mtb_vi.loc[union_ortho_table['rv'].values,['Vulnerability Index','tnseq_ess','crispr_ess']].values\n",
    "\n",
    "union_ortho_table_filtered = union_ortho_table[((union_ortho_table[['Msm_Ess_CRISPR','Mtb_Ess_CRISPR']].values=='Essential')*1).sum(axis=1)==2].copy().reset_index(drop=True)\n",
    "print(\"{} orthologs are essential in both organisms.\".format(len(union_ortho_table_filtered)))"
   ]
  },
  {
   "cell_type": "markdown",
   "id": "6b3855cb-8285-4812-97bf-6f9ea823414a",
   "metadata": {},
   "source": [
    "### Include a few mannualy chosen proteins of interest"
   ]
  },
  {
   "cell_type": "code",
   "execution_count": 59,
   "id": "2af70c16-a51c-4fd6-a05f-72f7926b2608",
   "metadata": {},
   "outputs": [
    {
     "name": "stdout",
     "output_type": "stream",
     "text": [
      "357 orthologs found.\n"
     ]
    }
   ],
   "source": [
    "supplement = pd.DataFrame([list(union_ortho_table[union_ortho_table['gene']=='MSMEG_3858'].values[0]),\n",
    "                           list(union_ortho_table[union_ortho_table['gene']=='MSMEG_1435'].values[0]),\n",
    "                           ['MSMEG_2299','Rv3051c',0,'N/A','N/A',-7.52,'Essential','Essential']],\n",
    "                          columns=union_ortho_table.columns)\n",
    "union_ortho_table_filtered=pd.concat([union_ortho_table_filtered,supplement]).reset_index(drop=True)\n",
    "print(\"{} orthologs found.\".format(len(union_ortho_table_filtered)))"
   ]
  },
  {
   "cell_type": "markdown",
   "id": "9969cd29-a411-4497-bb5c-c2a8ef4c429e",
   "metadata": {},
   "source": [
    "### Add primary protein sequence information"
   ]
  },
  {
   "cell_type": "code",
   "execution_count": 60,
   "id": "bc5ac26d-8e4b-4cd6-92ef-81e978d8f2e0",
   "metadata": {},
   "outputs": [],
   "source": [
    "union_ortho_table_filtered['Msm_seq'] = [msm_proteins[k] for k in union_ortho_table_filtered['gene'].values]\n",
    "union_ortho_table_filtered['Mtb_seq'] = [mtb_proteins[k] for k in union_ortho_table_filtered['rv'].values]\n",
    "union_ortho_table_filtered['Msm_seq_N20'] = [msm_proteins[k][:20] for k in union_ortho_table_filtered['gene'].values]\n",
    "union_ortho_table_filtered['Mtb_seq_N20'] = [mtb_proteins[k][:20] for k in union_ortho_table_filtered['rv'].values]\n",
    "union_ortho_table_filtered['Msm_seq_C20'] = [msm_proteins[k][-20:] for k in union_ortho_table_filtered['gene'].values]\n",
    "union_ortho_table_filtered['Mtb_seq_C20'] = [mtb_proteins[k][-20:] for k in union_ortho_table_filtered['rv'].values]\n",
    "union_ortho_table_filtered['Msm_pro_length'] = [len(msm_proteins[k]) for k in union_ortho_table_filtered['gene'].values]\n",
    "union_ortho_table_filtered['Mtb_pro_length'] = [len(mtb_proteins[k]) for k in union_ortho_table_filtered['rv'].values]"
   ]
  },
  {
   "cell_type": "markdown",
   "id": "15e56523-4499-4b16-a21a-0b16736ce563",
   "metadata": {},
   "source": [
    "### Add simple protein features"
   ]
  },
  {
   "cell_type": "code",
   "execution_count": 61,
   "id": "5a513745-4bde-4022-971d-b84ab56398dc",
   "metadata": {},
   "outputs": [],
   "source": [
    "union_ortho_table_filtered['Msm_PI'] = [pep.Peptide(x).isoelectric_point() for x in union_ortho_table_filtered['Msm_seq'].values]\n",
    "union_ortho_table_filtered['Mtb_PI'] = [pep.Peptide(x).isoelectric_point() for x in union_ortho_table_filtered['Mtb_seq'].values]\n",
    "union_ortho_table_filtered['Msm_Aliphatic_Index'] = [pep.Peptide(x).aliphatic_index() for x in union_ortho_table_filtered['Msm_seq'].values]\n",
    "union_ortho_table_filtered['Mtb_Aliphatic_Index'] = [pep.Peptide(x).aliphatic_index() for x in union_ortho_table_filtered['Mtb_seq'].values]\n",
    "union_ortho_table_filtered['PI_difference'] = np.abs(union_ortho_table_filtered['Msm_PI'].values-union_ortho_table_filtered['Mtb_PI'].values)\n",
    "union_ortho_table_filtered['Aliphatic_Index_difference'] =np.abs(union_ortho_table_filtered['Msm_Aliphatic_Index'].values-union_ortho_table_filtered['Mtb_Aliphatic_Index'].values)"
   ]
  },
  {
   "cell_type": "markdown",
   "id": "94127917-52f9-4431-8162-15d05aad2e47",
   "metadata": {},
   "source": [
    "### Exclude proteins that are too large or too small"
   ]
  },
  {
   "cell_type": "code",
   "execution_count": 63,
   "id": "c1fc5d73-e00b-443e-8825-4cd45e112796",
   "metadata": {},
   "outputs": [
    {
     "name": "stdout",
     "output_type": "stream",
     "text": [
      "Found 348 orthologs whose lengths are between 100 and 1500\n"
     ]
    }
   ],
   "source": [
    "union_ortho_table_filtered = union_ortho_table_filtered[(union_ortho_table_filtered['Msm_pro_length']<1500)&\\\n",
    "                                                        (union_ortho_table_filtered['Msm_pro_length']<1500)&\\\n",
    "                                                        (union_ortho_table_filtered['Msm_pro_length']>100)&\\\n",
    "                                                        (union_ortho_table_filtered['Msm_pro_length']>100)].copy()\n",
    "print(\"Found {} orthologs whose lengths are between 100 and 1500\".format(len(union_ortho_table_filtered)))"
   ]
  },
  {
   "cell_type": "code",
   "execution_count": 64,
   "id": "c1d7eafe-9e0b-4334-a03c-573201bd99db",
   "metadata": {},
   "outputs": [
    {
     "data": {
      "image/png": "[encoded data removed]",
      "text/plain": [
       "<Figure size 650x300 with 2 Axes>"
      ]
     },
     "metadata": {},
     "output_type": "display_data"
    }
   ],
   "source": [
    "# plot protein feature correslation between Msm and Mtb homologs\n",
    "from scipy.stats import pearsonr\n",
    "\n",
    "fig,axes=plt.subplots(figsize=(6.5,3),ncols=2,gridspec_kw={'wspace':0.3})\n",
    "sns.scatterplot(data=union_ortho_table_filtered,x='Msm_PI',y='Mtb_PI',ax=axes[0],color='salmon')\n",
    "sns.scatterplot(data=union_ortho_table_filtered,x='Msm_Aliphatic_Index',y='Mtb_Aliphatic_Index',ax=axes[1],color='salmon')\n",
    "sns.regplot(data=union_ortho_table_filtered,x='Msm_PI',y='Mtb_PI',ax=axes[0],scatter=False,color='black')\n",
    "sns.regplot(data=union_ortho_table_filtered,x='Msm_Aliphatic_Index',y='Mtb_Aliphatic_Index',ax=axes[1],scatter=False,color='black')\n",
    "axes[0].set_xlabel('Msm',fontsize=12,fontname='Arial')\n",
    "axes[0].set_ylabel('Mtb',fontsize=12,fontname='Arial')\n",
    "axes[0].set_title('PI',fontsize=12,fontname='Arial')\n",
    "axes[1].set_xlabel('Msm',fontsize=12,fontname='Arial')\n",
    "axes[1].set_ylabel('Mtb',fontsize=12,fontname='Arial')\n",
    "axes[1].set_title('Aliphatic_Index',fontsize=12,fontname='Arial')\n",
    "axes[0].set_xlim(3,14)\n",
    "axes[0].set_ylim(3,14)\n",
    "axes[1].set_xlim(50,145)\n",
    "axes[1].set_ylim(50,145)\n",
    "\n",
    "r1,p1 = pearsonr(union_ortho_table_filtered['Msm_PI'],union_ortho_table_filtered['Mtb_PI'])\n",
    "r2,p2 = pearsonr(union_ortho_table_filtered['Msm_Aliphatic_Index'],union_ortho_table_filtered['Mtb_Aliphatic_Index'])\n",
    "axes[0].text(0.05,0.8,'$r$={}\\n$p$={:e}'.format(round(r1,3),p1),transform=axes[0].transAxes,fontsize=12,fontname='Arial',ha='left')\n",
    "axes[1].text(0.05,0.8,'$r$={}\\n$p$={:e}'.format(round(r2,3),p2),transform=axes[1].transAxes,fontsize=12,fontname='Arial',ha='left')\n",
    "plt.savefig('/Users/jzrolling/Desktop/Projects/HSPH/BacPROTAC/Final_figures/20231207_Union_ortho_feature_corr.svg',\n",
    "            bbox_inches='tight')"
   ]
  },
  {
   "cell_type": "markdown",
   "id": "96772a80-0f58-4e35-b845-5c3d8907f967",
   "metadata": {},
   "source": [
    "### Save data"
   ]
  },
  {
   "cell_type": "code",
   "execution_count": 65,
   "id": "fa54b4c2-0248-483e-857f-e8278f608509",
   "metadata": {},
   "outputs": [],
   "source": [
    "union_ortho_table_filtered.to_csv('/Users/jzrolling/Desktop/Projects/HSPH/BacPROTAC/Final_draft/Tables/union_ortho_table_filtered.csv')"
   ]
  }
 ],
 "metadata": {
  "kernelspec": {
   "display_name": "Python 3 (ipykernel)",
   "language": "python",
   "name": "python3"
  },
  "language_info": {
   "codemirror_mode": {
    "name": "ipython",
    "version": 3
   },
   "file_extension": ".py",
   "mimetype": "text/x-python",
   "name": "python",
   "nbconvert_exporter": "python",
   "pygments_lexer": "ipython3",
   "version": "3.11.5"
  }
 },
 "nbformat": 4,
 "nbformat_minor": 5
}
