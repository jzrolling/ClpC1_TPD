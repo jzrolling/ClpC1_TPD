{
 "cells": [
  {
   "cell_type": "markdown",
   "id": "431ec9af-17ac-4e00-ba52-eb77d11d1a96",
   "metadata": {},
   "source": [
    "### Importing packages"
   ]
  },
  {
   "cell_type": "code",
   "execution_count": 1,
   "id": "2310323a-5d98-4100-9331-7fdf7272a49d",
   "metadata": {},
   "outputs": [],
   "source": [
    "import pandas as pd, numpy as np, matplotlib.pyplot as plt\n",
    "import os, glob\n",
    "from skimage import filters\n",
    "import momia2 as mo\n",
    "from microfilm.microplot import microshow\n",
    "import seaborn as sns"
   ]
  },
  {
   "cell_type": "markdown",
   "id": "95aa360b-530b-4a42-a4a0-3bf0761d4371",
   "metadata": {},
   "source": [
    "### Function for generating thumbnails"
   ]
  },
  {
   "cell_type": "code",
   "execution_count": 2,
   "id": "6be8ff1a-38c8-4ee4-b17b-eab147faab84",
   "metadata": {},
   "outputs": [],
   "source": [
    "def thumbnails(patch,\n",
    "               output_folder = '',\n",
    "               img_id='0',\n",
    "               fig_size=(4,4),\n",
    "               channels = ['FITC','Phase_Ian'],\n",
    "               scale_bar_length=5,\n",
    "               channel_range = [[500,3000],[2000,20000]],\n",
    "               cmaps=['pure_green','gist_gray'],\n",
    "               distance_threshold=120,\n",
    "               min_neighbor_count = 4,\n",
    "               max_neighbor_count = 10):\n",
    "    from sklearn.cluster import KMeans,DBSCAN,AgglomerativeClustering\n",
    "    # calculate centroids\n",
    "    centroids = []\n",
    "    for x1,y1,x2,y2 in patch.regionprops[['$opt-x1','$opt-y1','$opt-x2','$opt-y2']].values:\n",
    "        centroids.append([(x1+x2)/2,(y1+y2)/2])\n",
    "    centroids = np.array(centroids)\n",
    "\n",
    "    # cluster ROIs\n",
    "    min_neighbor_count = min_neighbor_count\n",
    "    max_neighbor_count = max_neighbor_count\n",
    "    cluster = AgglomerativeClustering(n_clusters=None,\n",
    "                                      distance_threshold=distance_threshold,linkage='complete').fit_predict(centroids)\n",
    "\n",
    "    # get candidate ROI clusters\n",
    "    candidates = []\n",
    "    for i in np.unique(cluster):\n",
    "        if np.sum(cluster==i) in range(min_neighbor_count,max_neighbor_count):\n",
    "            candidates.append(i)\n",
    "    # make plots \n",
    "    \n",
    "    for c in candidates:\n",
    "        try:\n",
    "            xc,yc = centroids[cluster==c].T\n",
    "            cluster_x,cluster_y = int(xc.mean()),int(yc.mean())\n",
    "            cx1,cx2 = cluster_x-distance_threshold, cluster_x+distance_threshold\n",
    "            cy1,cy2 = cluster_y-distance_threshold, cluster_y+distance_threshold\n",
    "            stack = [patch.get_channel_data(channel)[cx1:cx2,cy1:cy2] for channel in channels]\n",
    "            if stack[0].shape[0] == distance_threshold*2 and stack[0].shape[1] == distance_threshold*2:\n",
    "                fig=plt.figure(figsize=fig_size)\n",
    "                ax=fig.add_subplot()\n",
    "                x=microshow(images=stack, fig_scaling=5,\n",
    "                            cmaps=cmaps,\n",
    "                            limits=channel_range,\n",
    "                            unit='um', \n",
    "                            scalebar_size_in_units=scale_bar_length, \n",
    "                            scalebar_unit_per_pix=0.065, \n",
    "                            scalebar_font_size=None,\n",
    "                            label_font_size=None,ax=ax)  \n",
    "                plt.savefig(output_folder+'{}_cluster_{}.png'.format(img_id,c),dpi=300,bbox_inches='tight')\n",
    "                plt.close()\n",
    "        except:\n",
    "            plt.close()\n",
    "            continue"
   ]
  },
  {
   "cell_type": "markdown",
   "id": "9b484846-e2dd-44de-9471-93dc24ffe749",
   "metadata": {},
   "source": [
    "### sort file paths to a dictionary"
   ]
  },
  {
   "cell_type": "code",
   "execution_count": 3,
   "id": "17e4d76a-d8be-4c87-ae30-e5ecdb834d8d",
   "metadata": {
    "collapsed": true,
    "jupyter": {
     "outputs_hidden": true
    }
   },
   "outputs": [
    {
     "ename": "ValueError",
     "evalue": "not enough values to unpack (expected 2, got 1)",
     "output_type": "error",
     "traceback": [
      "\u001b[0;31m---------------------------------------------------------------------------\u001b[0m",
      "\u001b[0;31mValueError\u001b[0m                                Traceback (most recent call last)",
      "Cell \u001b[0;32mIn[3], line 4\u001b[0m\n\u001b[1;32m      2\u001b[0m \u001b[38;5;28;01mfor\u001b[39;00m f \u001b[38;5;129;01min\u001b[39;00m \u001b[38;5;28msorted\u001b[39m(glob\u001b[38;5;241m.\u001b[39mglob(\u001b[38;5;124m'\u001b[39m\u001b[38;5;124m/Volumes/ExtremePro/BacProtac_analysis/202306_BacPROTAC_microscopy_finalrun/20240214_TPD_plate6_9hrs/*.pk\u001b[39m\u001b[38;5;124m'\u001b[39m)):\n\u001b[1;32m      3\u001b[0m     \u001b[38;5;28;01mif\u001b[39;00m \u001b[38;5;124m'\u001b[39m\u001b[38;5;124mHW84-2\u001b[39m\u001b[38;5;124m'\u001b[39m \u001b[38;5;129;01min\u001b[39;00m f:\n\u001b[0;32m----> 4\u001b[0m         s,_r \u001b[38;5;241m=\u001b[39m f\u001b[38;5;241m.\u001b[39msplit(\u001b[38;5;124m'\u001b[39m\u001b[38;5;124m/\u001b[39m\u001b[38;5;124m'\u001b[39m)[\u001b[38;5;241m-\u001b[39m\u001b[38;5;241m1\u001b[39m]\u001b[38;5;241m.\u001b[39msplit(\u001b[38;5;124m'\u001b[39m\u001b[38;5;124mRAPA\u001b[39m\u001b[38;5;124m'\u001b[39m)\n\u001b[1;32m      5\u001b[0m         s \u001b[38;5;241m=\u001b[39m s[:\u001b[38;5;241m-\u001b[39m\u001b[38;5;241m1\u001b[39m]\n\u001b[1;32m      6\u001b[0m         rapa \u001b[38;5;241m=\u001b[39m _r[\u001b[38;5;241m0\u001b[39m]\n",
      "\u001b[0;31mValueError\u001b[0m: not enough values to unpack (expected 2, got 1)"
     ]
    }
   ],
   "source": [
    "pickle_dict = {}\n",
    "for f in sorted(glob.glob('/Volumes/ExtremePro/BacProtac_analysis/20231018_microscopy_analysis/*.pk')):\n",
    "    s,_r = f.split('/')[-1].split('RAPA')\n",
    "    s = s[:-1]\n",
    "    rapa = _r[0]\n",
    "    header = _r.split('.')[0].split('_')[1]\n",
    "    if s not in pickle_dict:\n",
    "        pickle_dict[s] = [f]\n",
    "    else:\n",
    "        pickle_dict[s].append(f)"
   ]
  },
  {
   "cell_type": "markdown",
   "id": "ed5579d4-0d64-469e-b32c-1d08d465feed",
   "metadata": {},
   "source": [
    "### Generating thumbnails"
   ]
  },
  {
   "cell_type": "code",
   "execution_count": 21,
   "id": "09b6c634-9e7d-437f-a1e4-9b1c013dd880",
   "metadata": {},
   "outputs": [
    {
     "name": "stdout",
     "output_type": "stream",
     "text": [
      "Well_F05\n",
      "Well_F05\n"
     ]
    }
   ],
   "source": [
    "for k,v in pickle_dict.items():\n",
    "    dst = '/Volumes/ExtremePro/BacProtac_analysis/20231025_thumbnail_240pix/{}/'.format(k)\n",
    "    if not os.path.isdir(dst):\n",
    "        os.mkdir(dst)\n",
    "    \n",
    "    # est dynamic range\n",
    "    cells = []\n",
    "    for f in v:\n",
    "        if 'RAPA-' in f:\n",
    "            p = mo.momia_IO.pickle_load(f)\n",
    "            cells.append(p.regionprops)\n",
    "    cells = pd.concat(cells)\n",
    "    min_v = 250\n",
    "    max_v = max(np.median(cells['FITC_max'].values)+200, 580)\n",
    "    if 'EttA' in k:\n",
    "        max_v += 300 #to account for oversaturation\n",
    "    if 'HupB' in k:\n",
    "        max_v -= 50 #to account for low signal\n",
    "        \n",
    "    rapa_plus = []\n",
    "    rapa_minus = []\n",
    "    n=0\n",
    "    for i,f in enumerate(v):\n",
    "        if 'RAPA+' in f:\n",
    "            scale_bar_length=5\n",
    "        else:\n",
    "            scale_bar_length=0\n",
    "        n+=1\n",
    "        p = mo.momia_IO.pickle_load(f)\n",
    "        img_id = '{}_{}'.format(f.split('/')[-1].split('.')[0],n)\n",
    "        try:\n",
    "            thumbnails(p,\n",
    "                       output_folder = dst,\n",
    "                       img_id=img_id,\n",
    "                       fig_size=(4,4),\n",
    "                       channels = ['FITC','Phase_Ian'],\n",
    "                       scale_bar_length=scale_bar_length,\n",
    "                       channel_range = [[min_v,max_v],[2000,50000]],\n",
    "                       cmaps=['pure_green','gist_gray'],\n",
    "                       min_neighbor_count=1,\n",
    "                       distance_threshold=120)\n",
    "        except:\n",
    "            print(k)"
   ]
  },
  {
   "cell_type": "markdown",
   "id": "88da811a-6c71-4203-8669-cc58bc56742a",
   "metadata": {},
   "source": [
    "### Get stats from image analysis"
   ]
  },
  {
   "cell_type": "code",
   "execution_count": 7,
   "id": "97b05295-d089-44b2-aa5f-73e467f8efe7",
   "metadata": {},
   "outputs": [],
   "source": [
    "drange = []\n",
    "\n",
    "for k,v in pickle_dict.items():\n",
    "    dst = '/Volumes/ExtremePro/BacProtac_analysis/20231025_thumbnail_240pix/{}/'.format(k)\n",
    "    if not os.path.isdir(dst):\n",
    "        os.mkdir(dst)\n",
    "    # est dynamic range\n",
    "    cells = []\n",
    "    for f in v:\n",
    "        if 'RAPA-' in f:\n",
    "            p = mo.momia_IO.pickle_load(f)\n",
    "            cells.append(p.regionprops)\n",
    "    cells = pd.concat(cells)\n",
    "    min_v = 250\n",
    "    max_v = max(np.median(cells['FITC_max'].values)+200, 580)\n",
    "    if 'EttA' in k:\n",
    "        max_v += 300\n",
    "    if 'HupB' in k:\n",
    "        max_v -= 50\n",
    "\n",
    "    rapa_plus = []\n",
    "    rapa_minus = []\n",
    "    for i,f in enumerate(v):\n",
    "        p = mo.momia_IO.pickle_load(f)\n",
    "        p.filter_particles(filter_dict={'length [µm]': (3,10),\n",
    "                  'aspect_ratio': (0.05, 0.9),\n",
    "                  'solidity': (0.75, 1),\n",
    "                  'eccentricity': (0.1, 1)})\n",
    "        try:\n",
    "            if 'RAPA+' in f:\n",
    "                scale_bar_length=5\n",
    "                rapa_plus.append(p.regionprops)\n",
    "            else:\n",
    "                scale_bar_length=0\n",
    "                rapa_minus.append(p.regionprops)\n",
    "        except:\n",
    "            print(f)\n",
    "\n",
    "    fitc_mean = 0\n",
    "    fitc_std = 0\n",
    "    if len(rapa_plus)>0:\n",
    "        rapa_plus=pd.concat(rapa_plus)\n",
    "        vals = rapa_plus['FITC_mean'].values\n",
    "        mean = vals.mean()\n",
    "        std = vals.std()\n",
    "        z = (vals-mean)/std\n",
    "        filtered = rapa_plus[(np.abs(z)<3)&(rapa_plus['$include']==1)]\n",
    "        fitc_mean = filtered['FITC_mean'].mean()\n",
    "        fitc_std = filtered['FITC_mean'].std()\n",
    "    drange.append([k,'+',min_v,max_v,fitc_mean,fitc_std])\n",
    "\n",
    "    fitc_mean = 0\n",
    "    fitc_std = 0\n",
    "    if len(rapa_minus)>0:\n",
    "        rapa_minus=pd.concat(rapa_minus)\n",
    "        vals = rapa_minus['FITC_mean'].values\n",
    "        mean = vals.mean()\n",
    "        std = vals.std()\n",
    "        z = (vals-mean)/std\n",
    "        filtered = rapa_minus[(np.abs(z)<3)&(rapa_minus['$include']==1)]\n",
    "        fitc_mean = filtered['FITC_mean'].median()\n",
    "        fitc_std = filtered['FITC_mean'].std()\n",
    "    drange.append([k,'-',min_v,max_v,fitc_mean,fitc_std])\n",
    "drange_df = pd.DataFrame(drange,columns=['Header','RAPA','Min','Max','FITC_mean','FITC_std'])\n",
    "drange_df.to_csv('/Volumes/ExtremePro/BacProtac_analysis/20231025_thumbnail_240pix/drange_full_plate5.csv')"
   ]
  },
  {
   "cell_type": "code",
   "execution_count": null,
   "id": "98a73039-6bd4-4db7-9316-94863a664257",
   "metadata": {},
   "outputs": [],
   "source": [
    "drange_df=pd.read_csv('/Volumes/ExtremePro/BacProtac_analysis/20231025_thumbnail_240pix/drange_full_plate5.csv')"
   ]
  },
  {
   "cell_type": "markdown",
   "id": "3aadc9e6-f26e-4134-9bb9-d826e05186f3",
   "metadata": {},
   "source": [
    "### Load reference sheets and data sheet"
   ]
  },
  {
   "cell_type": "code",
   "execution_count": 9,
   "id": "11931456-0941-41e2-be45-f20d8f8d64ae",
   "metadata": {},
   "outputs": [],
   "source": [
    "ref = pd.read_excel('./Important_References/Flow_well_keys_pub.xlsx')\n",
    "flow_grouped = pd.read_csv('/Volumes/ExtremePro/BacProtac_analysis/grouped_median_20231025.csv')\n",
    "#Imaging data were acquired at T=9 after RAPA treatment\n",
    "t9 = flow_grouped[flow_grouped['Time numeric']==9]\n",
    "#Import the degradation stat\n",
    "deg = pd.read_excel('./Important_References/Deg_stats_final_pub.xlsx')\n",
    "drange_df = pd.read_csv('/Volumes/ExtremePro/BacProtac_analysis/20231025_thumbnail_240pix/drange_full.csv')\n",
    "ref['Well'] = [x[0]+x[1:].zfill(2) if isinstance(x,str) else x for x in ref['Sample'].values]\n",
    "drange_df['Well'] = ['None' if 'Well' not in x else x.split('_')[1] for x in drange_df['Header'].values]"
   ]
  },
  {
   "cell_type": "code",
   "execution_count": 10,
   "id": "47c21550-eb4c-49bd-a42a-64c148330878",
   "metadata": {},
   "outputs": [],
   "source": [
    "locus_list = []\n",
    "target_list = []\n",
    "rec_list = []\n",
    "flow_fl = []\n",
    "for header,w,rapa in drange_df[['Header','Well','RAPA']].values:\n",
    "    # retrieve gene annotation by their well coordinates\n",
    "    rec = '-'\n",
    "    if w in ref['Well'].values:\n",
    "        locus = np.unique(ref[ref['Well']==w]['Locus_tag'].values)[0]\n",
    "        target = np.unique(ref[ref['Well']==w]['Target_gene'].values)[0]\n",
    "    else:\n",
    "        if 'REC' in header:\n",
    "            rec = '+'\n",
    "            target = header.split('_')[1]\n",
    "        else:\n",
    "            target = header\n",
    "        if target in ref['Target_gene'].values:\n",
    "            locus = np.unique(ref[ref['Target_gene']==target]['Locus_tag'].values)[0]\n",
    "        else:\n",
    "            target = target[0].lower() + target[1:]\n",
    "            if target in ref['Target_gene'].values:\n",
    "                locus = np.unique(ref[ref['Target_gene']==target]['Locus_tag'].values)[0]\n",
    "            else:\n",
    "                locus = '-'\n",
    "    locus_list.append(locus)\n",
    "    target_list.append(target)\n",
    "    rec_list.append(rec)\n",
    "    subset = t9[(t9['Locus']==locus)&(t9['Rapa']==rapa)]\n",
    "    if len(subset)>0:\n",
    "        flow_fl.append(subset['AlexaFluor488-H'].values[:2].mean())\n",
    "    else:\n",
    "        flow_fl.append(0)\n",
    "drange_df['Locus'] = locus_list\n",
    "drange_df['Target_gene'] = target_list\n",
    "drange_df['Rec'] = rec_list\n",
    "drange_df['Flow_intensity'] = flow_fl\n",
    "drange_df['Microscopy_intensity (log2-transformed)'] = np.log2(drange_df['FITC_mean'].values+1)"
   ]
  },
  {
   "cell_type": "markdown",
   "id": "c35e27bd-b33c-4175-b330-f3cdd10de53e",
   "metadata": {},
   "source": [
    "### Plot flow-microscopy correlation"
   ]
  },
  {
   "cell_type": "code",
   "execution_count": 14,
   "id": "f5c8f80f-f06a-4356-a93a-7dc8a013bd00",
   "metadata": {},
   "outputs": [],
   "source": [
    "val_list = []\n",
    "for x in drange_df['Locus'].values:\n",
    "    if x in ref[ref['Plate']=='Plate5']['Locus_tag'].unique():\n",
    "        val_list.append(1)\n",
    "    else:\n",
    "        val_list.append(0)\n",
    "drange_df['as_validation'] = val_list"
   ]
  },
  {
   "cell_type": "code",
   "execution_count": 19,
   "id": "b2a8d13a-f336-4672-97f9-9e1bcda6655d",
   "metadata": {},
   "outputs": [
    {
     "name": "stderr",
     "output_type": "stream",
     "text": [
      "/var/folders/1y/_2nhqmfd56s2k1hktst6p9b80000gn/T/ipykernel_9696/1750996898.py:13: UserWarning: Boolean Series key will be reindexed to match DataFrame index.\n",
      "  sns.regplot(data=subset[(drange_df['RAPA']=='+')],x='Flow_intensity',y='Microscopy_intensity (log2-transformed)',color=rapa_color,ax=ax)\n",
      "/var/folders/1y/_2nhqmfd56s2k1hktst6p9b80000gn/T/ipykernel_9696/1750996898.py:25: UserWarning: set_ticklabels() should only be used with a fixed number of ticks, i.e. after set_ticks() or using a FixedLocator.\n",
      "  ax.set_xticklabels([int(x) for x in ax.get_xticks()],fontname='Arial',fontsize=12)\n",
      "/var/folders/1y/_2nhqmfd56s2k1hktst6p9b80000gn/T/ipykernel_9696/1750996898.py:26: UserWarning: set_ticklabels() should only be used with a fixed number of ticks, i.e. after set_ticks() or using a FixedLocator.\n",
      "  ax.set_yticklabels([round(x,1) for x in ax.get_yticks()],fontname='Arial',fontsize=12)\n"
     ]
    },
    {
     "data": {
      "image/png": "[encoded data removed]",
      "text/plain": [
       "<Figure size 400x400 with 1 Axes>"
      ]
     },
     "metadata": {},
     "output_type": "display_data"
    }
   ],
   "source": [
    "from scipy.stats import pearsonr\n",
    "ctrl_color=np.array([121,121,121])/255\n",
    "rapa_color=np.array([225,60,80])/255\n",
    "\n",
    "fig=plt.figure(figsize=(4,4))\n",
    "ax = fig.add_subplot()\n",
    "subset = drange_df[(drange_df['Flow_intensity']>0)&\\\n",
    "                    (drange_df['Rec']=='-')&\\\n",
    "                    (drange_df['as_validation']==0)&\\\n",
    "                    (drange_df['Microscopy_intensity (log2-transformed)']>5)].copy()\n",
    "\n",
    "sns.regplot(data=subset[(subset['RAPA']=='-')],x='Flow_intensity',y='Microscopy_intensity (log2-transformed)',color=ctrl_color,ax=ax)\n",
    "sns.regplot(data=subset[(drange_df['RAPA']=='+')],x='Flow_intensity',y='Microscopy_intensity (log2-transformed)',color=rapa_color,ax=ax)\n",
    "ax.plot([540,570],[11.4,11.4],lw=3,color=ctrl_color)\n",
    "ax.scatter(555,11.4,color=ctrl_color,s=50)\n",
    "ax.plot([540,570],[10.5,10.5],lw=3,color=rapa_color)\n",
    "ax.scatter(555,10.5,color=rapa_color,s=50)\n",
    "\n",
    "ax.text(585,11.55,'$-$ rapamycin\\n$r$ = {}'.format(round(pearsonr(subset[subset['RAPA']=='-']['Flow_intensity'],\n",
    "                                                                  subset[subset['RAPA']=='-']['Microscopy_intensity (log2-transformed)'])[0],2))\n",
    "        ,va='top',fontsize=12)\n",
    "ax.text(585,10.65,'$-$ rapamycin\\n$r$ = {}'.format(round(pearsonr(subset[subset['RAPA']=='+']['Flow_intensity'],\n",
    "                                                                  subset[subset['RAPA']=='+']['Microscopy_intensity (log2-transformed)'])[0],2))\n",
    "        ,va='top',fontsize=12)\n",
    "ax.set_xticklabels([int(x) for x in ax.get_xticks()],fontname='Arial',fontsize=12)\n",
    "ax.set_yticklabels([round(x,1) for x in ax.get_yticks()],fontname='Arial',fontsize=12)\n",
    "ax.set_xlabel('Flow intensity',fontname='Arial',fontsize=14)\n",
    "ax.set_ylabel('Microscopy intensity\\n(log2-transformed)',fontname='Arial',fontsize=14)\n",
    "plt.savefig('/Users/jzrolling/Desktop/Projects/HSPH/BacPROTAC/Final_figures/20240119_flow_microscopy_corr.svg',bbox_inches='tight')"
   ]
  }
 ],
 "metadata": {
  "kernelspec": {
   "display_name": "Python 3 (ipykernel)",
   "language": "python",
   "name": "python3"
  },
  "language_info": {
   "codemirror_mode": {
    "name": "ipython",
    "version": 3
   },
   "file_extension": ".py",
   "mimetype": "text/x-python",
   "name": "python",
   "nbconvert_exporter": "python",
   "pygments_lexer": "ipython3",
   "version": "3.11.5"
  }
 },
 "nbformat": 4,
 "nbformat_minor": 5
}
